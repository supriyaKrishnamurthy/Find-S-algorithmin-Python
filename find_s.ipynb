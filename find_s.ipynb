{
 "cells": [
  {
   "cell_type": "code",
   "execution_count": 121,
   "metadata": {},
   "outputs": [
    {
     "name": "stdout",
     "output_type": "stream",
     "text": [
      "Initialize h with most specific hypothesis:  ['0', '0', '0', '0', '0', '0']\n"
     ]
    }
   ],
   "source": [
    "import csv\n",
    "\n",
    "a=[]\n",
    "num_attributes=6\n",
    "\n",
    "\n",
    "with open('enjoysport.csv','r') as csvfile:\n",
    "    reader=csv.reader(csvfile)\n",
    "    for row in reader:\n",
    "        a.append(row)\n",
    "        \n",
    "h=['0']*num_attributes #most specific hypothesis\n",
    "\n",
    "print('Initialize h with most specific hypothesis: ',h)"
   ]
  },
  {
   "cell_type": "code",
   "execution_count": 122,
   "metadata": {},
   "outputs": [
    {
     "name": "stdout",
     "output_type": "stream",
     "text": [
      "\n",
      "\n",
      "hypothesis for  1 th positive training example\n",
      "\n",
      " ['Sunny', 'Warm', 'Normal', 'Strong', 'Warm', 'Same']\n",
      "\n",
      "\n",
      "hypothesis for  2 th positive training example\n",
      "\n",
      " ['Sunny', 'Warm', '?', 'Strong', 'Warm', 'Same']\n",
      "\n",
      "\n",
      "hypothesis for  3 th positive training example\n",
      "\n",
      " ['Sunny', 'Warm', '?', 'Strong', '?', '?']\n",
      "\n",
      "\n",
      "Maximally Specific Hypothesis for a given Training Examples\n",
      "\n",
      " ['Sunny', 'Warm', '?', 'Strong', '?', '?']\n"
     ]
    }
   ],
   "source": [
    "count=0\n",
    "for i in range(0,len(a)):\n",
    "    if(a[i][num_attributes])=='Yes':\n",
    "        count=count+1\n",
    "        if count==1: #compare & copy 1st positive sample to hypothesis except classification column\n",
    "            h=a[i][:-1]\n",
    "            print('\\n\\nhypothesis for ',count,'th positive training example\\n\\n',h)\n",
    "        else:#for the rest of +ve examples compare the attributes and update to '?' if it doesnt match\n",
    "            for j in range(0,num_attributes):\n",
    "                if a[i][j]!=h[j]:\n",
    "                    h[j]='?'\n",
    "                else:\n",
    "                    h[j]=a[i][j]\n",
    "            print('\\n\\nhypothesis for ',count,'th positive training example\\n\\n',h)\n",
    "\n",
    "print('\\n\\nMaximally Specific Hypothesis for a given Training Examples\\n\\n',h)"
   ]
  },
  {
   "cell_type": "code",
   "execution_count": null,
   "metadata": {},
   "outputs": [],
   "source": []
  }
 ],
 "metadata": {
  "kernelspec": {
   "display_name": "Python 3",
   "language": "python",
   "name": "python3"
  },
  "language_info": {
   "codemirror_mode": {
    "name": "ipython",
    "version": 3
   },
   "file_extension": ".py",
   "mimetype": "text/x-python",
   "name": "python",
   "nbconvert_exporter": "python",
   "pygments_lexer": "ipython3",
   "version": "3.7.3"
  }
 },
 "nbformat": 4,
 "nbformat_minor": 2
}
